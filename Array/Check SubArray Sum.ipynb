{
 "cells": [
  {
   "cell_type": "markdown",
   "id": "58fa5d89",
   "metadata": {},
   "source": [
    "# Check if subarray with 0 sum is exists or not"
   ]
  },
  {
   "cell_type": "markdown",
   "id": "f173acbd",
   "metadata": {},
   "source": [
    "### Sub-Array :- A sub-array is part of Array, where each individual element is a sub-array and two or more consecutive elements make a sub-array. We can not skip any element to construct the sub-array."
   ]
  },
  {
   "cell_type": "code",
   "execution_count": 1,
   "id": "2fb139a7",
   "metadata": {},
   "outputs": [],
   "source": [
    "num =[4,2,-3,1,7]"
   ]
  },
  {
   "cell_type": "code",
   "execution_count": 5,
   "id": "4b62a8aa",
   "metadata": {},
   "outputs": [],
   "source": [
    "def check_sub_array_sum(num):\n",
    "    \"\"\"Time Complexity : O(n^2)\n",
    "       Space Complexity : O(1)\"\"\"\n",
    "    n=len(num)\n",
    "    sum =0\n",
    "    for i in range(n):\n",
    "        sum=sum+num[i]\n",
    "        for j in range(i+1, n):\n",
    "            sum+=num[j]\n",
    "            if sum ==0 :\n",
    "                return (print(\"The Subarray sum is zero\"))\n",
    "        sum=0\n",
    "        \n",
    "            \n",
    "    "
   ]
  },
  {
   "cell_type": "code",
   "execution_count": 6,
   "id": "ccdfc5f7",
   "metadata": {},
   "outputs": [
    {
     "name": "stdout",
     "output_type": "stream",
     "text": [
      "The Subarray sum is zero\n"
     ]
    }
   ],
   "source": [
    "check_sub_array_sum(num)"
   ]
  },
  {
   "cell_type": "markdown",
   "id": "9c5bba0a",
   "metadata": {},
   "source": [
    "# Now optimising the time complexity by using the Pre-fix Sub-array"
   ]
  },
  {
   "cell_type": "markdown",
   "id": "1a6ec4d5",
   "metadata": {},
   "source": [
    "# Pre-fix SubArray\n",
    " Given an array arr[] of size N, find the prefix sum of the array. A prefix sum array is another array prefixSum[] of the same size, such that the value of prefixSum[i] is arr[0] + arr[1] + arr[2] . . . arr[i].\n",
    "\n",
    "# Examples: \n",
    "\n",
    " Input: arr[] = {10, 20, 10, 5, 15}\n",
    " Output: prefixSum[] = {10, 30, 40, 45, 60}\n",
    " Explanation: While traversing the array, update the element by adding it with its previous element.\n",
    " prefixSum[0] = 10, \n",
    " prefixSum[1] = prefixSum[0] + arr[1] = 30, \n",
    " prefixSum[2] = prefixSum[1] + arr[2] = 40 and so on."
   ]
  },
  {
   "cell_type": "markdown",
   "id": "a89afb3f",
   "metadata": {},
   "source": [
    "## When Using the Prefix Sum then the sum is zero on 2 conditions \n",
    "\n",
    "# 1. The element is repeating in prefix sum\n",
    "# 2. Any zero value in perfix sum array\n",
    "\n",
    "The same utility is being used in below funtion"
   ]
  },
  {
   "cell_type": "code",
   "execution_count": 7,
   "id": "c2f55807",
   "metadata": {},
   "outputs": [],
   "source": [
    "def check_sub_array_sum(num):\n",
    "    \"\"\"Time Complexity : O(n)\n",
    "       Space Complexity : O(n)\"\"\"\n",
    "    n=len(num)\n",
    "    sum =0\n",
    "    number_set= set()\n",
    "    prefix_sum_array=[0]*n\n",
    "    for i in range(n):\n",
    "        if i==0:\n",
    "            prefix_sum_array[i] =num[i]\n",
    "        else:\n",
    "            prefix_sum_array[i]=num[i]+prefix_sum_array[i-1]\n",
    "    ##Calculated the Pre-fix Sum Array\n",
    "    \n",
    "    for j in range(n):\n",
    "        if prefix_sum_array[j] in number_set:\n",
    "            return (print(\"The Sub-Array sum is zero\"))\n",
    "        else:\n",
    "            number_set.add(prefix_sum_array[j])\n",
    "    if 0 in number_set:\n",
    "        return (print(\"The Sub-Array sum is zero\"))\n",
    "    else:\n",
    "        return(print(\"The sub-Array sum is not zero\"))\n",
    "        \n",
    "            \n",
    "            \n",
    "            "
   ]
  },
  {
   "cell_type": "code",
   "execution_count": 8,
   "id": "786de02e",
   "metadata": {},
   "outputs": [
    {
     "name": "stdout",
     "output_type": "stream",
     "text": [
      "The Sub-Array sum is zero\n"
     ]
    }
   ],
   "source": [
    "check_sub_array_sum([10,20,-30,15])"
   ]
  },
  {
   "cell_type": "code",
   "execution_count": 9,
   "id": "d891aaec",
   "metadata": {},
   "outputs": [
    {
     "name": "stdout",
     "output_type": "stream",
     "text": [
      "Sublist exists\n"
     ]
    }
   ],
   "source": [
    "# Function to check if a sublist with zero-sum is present in a given list or not\n",
    "def hasZeroSumSublist(nums):\n",
    " \n",
    "    # create an empty set to store the sum of elements of each\n",
    "    # sublist `nums[0…i]`, where `0 <= i < len(nums)`\n",
    "    s = set()\n",
    " \n",
    "    # insert 0 into the set to handle the case when sublist with\n",
    "    # zero-sum starts from index 0\n",
    "    s.add(0)\n",
    " \n",
    "    total = 0\n",
    " \n",
    "    # traverse the given list\n",
    "    for i in nums:\n",
    " \n",
    "        # sum of elements so far\n",
    "        total += i\n",
    " \n",
    "        # if the sum is seen before, we have found a sublist with zero-sum\n",
    "        if total in s:\n",
    "            return True\n",
    " \n",
    "        # insert sum so far into the set\n",
    "        s.add(total)\n",
    " \n",
    "    # we reach here when no sublist with zero-sum exists\n",
    "    return False\n",
    " \n",
    " \n",
    "if __name__ == '__main__':\n",
    " \n",
    "    nums = [4, -6, 3, -1, 4, 2, 7]\n",
    " \n",
    "    if hasZeroSumSublist(nums):\n",
    "        print('Sublist exists')\n",
    "    else:\n",
    "        print('Sublist does not exist')"
   ]
  },
  {
   "cell_type": "code",
   "execution_count": null,
   "id": "ddc3b6f2",
   "metadata": {},
   "outputs": [],
   "source": []
  }
 ],
 "metadata": {
  "kernelspec": {
   "display_name": "Python 3 (ipykernel)",
   "language": "python",
   "name": "python3"
  },
  "language_info": {
   "codemirror_mode": {
    "name": "ipython",
    "version": 3
   },
   "file_extension": ".py",
   "mimetype": "text/x-python",
   "name": "python",
   "nbconvert_exporter": "python",
   "pygments_lexer": "ipython3",
   "version": "3.9.7"
  }
 },
 "nbformat": 4,
 "nbformat_minor": 5
}
