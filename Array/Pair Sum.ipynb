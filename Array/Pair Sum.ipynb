{
 "cells": [
  {
   "cell_type": "markdown",
   "id": "bc2fff1f",
   "metadata": {},
   "source": [
    "# Function to find a pair in an array with a given sum"
   ]
  },
  {
   "cell_type": "code",
   "execution_count": 1,
   "id": "ad0d0039",
   "metadata": {},
   "outputs": [],
   "source": [
    "nums = [8, 7, 2, 5, 3, 1]\n",
    "target = 10"
   ]
  },
  {
   "cell_type": "code",
   "execution_count": 13,
   "id": "31abcb95",
   "metadata": {},
   "outputs": [],
   "source": [
    "def findnumsPair(nums, target):\n",
    "    \"\"\"Time Complexity : O(n^2)\n",
    "    Space Complexity : O(1)\"\"\"\n",
    "    n =len(nums)\n",
    "    count=0\n",
    "    for i in range(n):\n",
    "        for j in range (i+1,n):\n",
    "            if target == nums[i]+nums[j]:\n",
    "                count=count+1\n",
    "    print(\"The Number of pairs found in the list is\",count)\n",
    "            \n",
    "        \n",
    "        "
   ]
  },
  {
   "cell_type": "code",
   "execution_count": 14,
   "id": "4c02142e",
   "metadata": {},
   "outputs": [
    {
     "name": "stdout",
     "output_type": "stream",
     "text": [
      "The Number of pairs found in the list is 2\n"
     ]
    }
   ],
   "source": [
    "findnumsPair(nums, target)"
   ]
  },
  {
   "cell_type": "markdown",
   "id": "77a62059",
   "metadata": {},
   "source": [
    "# Function to find a pair in an array with a given sum using Set"
   ]
  },
  {
   "cell_type": "code",
   "execution_count": 16,
   "id": "e1d29f37",
   "metadata": {},
   "outputs": [],
   "source": [
    "def findnumsPair(nums, target):\n",
    "    \"\"\"Time Complexity : O(n)\n",
    "    Space Complexity : O(n)\"\"\"\n",
    "    set_numbers=set()\n",
    "    n =len(nums)\n",
    "    count=0\n",
    "    for i in range(n):\n",
    "        required_number =target-nums[i]\n",
    "        if required_number in set_numbers:\n",
    "            count+=1\n",
    "        set_numbers.add(nums[i])\n",
    "    print(\"The Number of pairs found in the list is\",count)"
   ]
  },
  {
   "cell_type": "code",
   "execution_count": 17,
   "id": "28f85448",
   "metadata": {},
   "outputs": [
    {
     "name": "stdout",
     "output_type": "stream",
     "text": [
      "The Number of pairs found in the list is 2\n"
     ]
    }
   ],
   "source": [
    "findnumsPair(nums, target)"
   ]
  },
  {
   "cell_type": "markdown",
   "id": "c4c1c508",
   "metadata": {},
   "source": [
    "# Function to find a pair in an array with a given sum using Sorting"
   ]
  },
  {
   "cell_type": "code",
   "execution_count": 27,
   "id": "8ab0f930",
   "metadata": {},
   "outputs": [
    {
     "name": "stdout",
     "output_type": "stream",
     "text": [
      "Pair found (2, 8)\n",
      "Pair found (3, 7)\n",
      "Pair not found\n",
      "The valid pair exits are  2\n"
     ]
    }
   ],
   "source": [
    "def findPair(nums, target):\n",
    " \n",
    "    # sort the list in ascending order\n",
    "    nums.sort()\n",
    " \n",
    "    # maintain two indices pointing to endpoints of the list\n",
    "    (low, high) = (0, len(nums) - 1)\n",
    " \n",
    "    # reduce the search space `nums[low…high]` at each iteration of the loop\n",
    "    count=0\n",
    "    # loop till the search space is exhausted\n",
    "    while low < high:\n",
    " \n",
    "        if nums[low] + nums[high] == target:        # target found\n",
    "            print('Pair found', (nums[low], nums[high]))\n",
    "            count+=1\n",
    " \n",
    "        # increment `low` index if the total is less than the desired sum;\n",
    "        # decrement `high` index if the total is more than the desired sum\n",
    "        if nums[low] + nums[high] < target:\n",
    "            low = low + 1\n",
    "        else:\n",
    "            high = high - 1\n",
    " \n",
    "    # No pair with the given sum exists\n",
    "    print('Pair not found')\n",
    "    return(print('The valid pair exits are ', count))\n",
    " \n",
    " \n",
    "if __name__ == '__main__':\n",
    " \n",
    "    nums = [8, 7, 2, 5, 3, 1]\n",
    "    target = 10\n",
    " \n",
    "    findPair(nums, target)"
   ]
  },
  {
   "cell_type": "code",
   "execution_count": null,
   "id": "8c082520",
   "metadata": {},
   "outputs": [],
   "source": []
  }
 ],
 "metadata": {
  "kernelspec": {
   "display_name": "Python 3 (ipykernel)",
   "language": "python",
   "name": "python3"
  },
  "language_info": {
   "codemirror_mode": {
    "name": "ipython",
    "version": 3
   },
   "file_extension": ".py",
   "mimetype": "text/x-python",
   "name": "python",
   "nbconvert_exporter": "python",
   "pygments_lexer": "ipython3",
   "version": "3.9.7"
  }
 },
 "nbformat": 4,
 "nbformat_minor": 5
}
